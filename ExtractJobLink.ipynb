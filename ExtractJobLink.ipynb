{
 "cells": [
  {
   "cell_type": "markdown",
   "metadata": {},
   "source": [
    "# Get job link"
   ]
  },
  {
   "cell_type": "code",
   "execution_count": 3,
   "metadata": {},
   "outputs": [],
   "source": [
    "from selenium import webdriver\n",
    "from bs4 import BeautifulSoup\n",
    "from selenium.webdriver.common.by import By\n",
    "from selenium.webdriver.support.ui import WebDriverWait\n",
    "from selenium.webdriver.support import expected_conditions as EC\n",
    "from selenium.common.exceptions import StaleElementReferenceException\n",
    "\n",
    "import time\n",
    "import requests\n",
    "import json"
   ]
  },
  {
   "cell_type": "code",
   "execution_count": 4,
   "metadata": {},
   "outputs": [],
   "source": [
    "webdriver = webdriver.Chrome()"
   ]
  },
  {
   "cell_type": "code",
   "execution_count": 6,
   "metadata": {},
   "outputs": [],
   "source": [
    "pages = 3\n",
    "link = 'https://glints.com/vn/job-category/{}?page={}'\n",
    "job_category = \"computer-information-technology\"\n",
    "webdriver.get(link.format(job_category, 6))"
   ]
  },
  {
   "cell_type": "code",
   "execution_count": null,
   "metadata": {},
   "outputs": [],
   "source": [
    "failed = 0\n",
    "jobLinks = []\n",
    "for i in range(1, pages+1):\n",
    "        webdriver.get(link.format(job_category, i))\n",
    "        wait = WebDriverWait(webdriver, 10)\n",
    "        elements = wait.until(EC.presence_of_all_elements_located(\n",
    "                (By.XPATH, '//div[@role=\"presentation\"]/a[starts-with(@class, \"CompactOpportunityCardsc__\")]')))\n",
    "\n",
    "        for element in elements:\n",
    "                try:\n",
    "                        jobLinks.append(element.get_attribute('href'))\n",
    "                except Exception:\n",
    "                        failed += 1\n",
    "                        pass\n",
    "\n",
    "        time.sleep(11)"
   ]
  },
  {
   "cell_type": "code",
   "execution_count": null,
   "metadata": {},
   "outputs": [],
   "source": [
    "assert len(jobLinks) == pages*30, \"Number of job link is missing {}\".format(pages*30 - len(jobLinks))\n",
    "with open('Data/jobLinks.json', 'w') as f: \n",
    "    json.dump(jobLinks, f, indent=4)"
   ]
  },
  {
   "cell_type": "code",
   "execution_count": 24,
   "metadata": {},
   "outputs": [],
   "source": [
    "webdriver.close()"
   ]
  },
  {
   "cell_type": "markdown",
   "metadata": {},
   "source": [
    "# Get job details"
   ]
  },
  {
   "cell_type": "code",
   "execution_count": 1,
   "metadata": {},
   "outputs": [
    {
     "data": {
      "text/plain": [
       "\"My name is John, i'm 30 years old\""
      ]
     },
     "execution_count": 1,
     "metadata": {},
     "output_type": "execute_result"
    }
   ],
   "source": [
    "a = \"My name is {}, i'm {} years old\"\n",
    "\n",
    "a.format('John', 30)"
   ]
  },
  {
   "cell_type": "code",
   "execution_count": 2,
   "metadata": {},
   "outputs": [
    {
     "data": {
      "text/plain": [
       "'https://glints.com/vn/job-category/computer-information-technology?page=1'"
      ]
     },
     "execution_count": 2,
     "metadata": {},
     "output_type": "execute_result"
    }
   ],
   "source": [
    "a = 'https://glints.com/vn/job-category/{}?page={}'\n",
    "job_category = 'computer-information-technology'\n",
    "page = 1\n",
    "\n",
    "a.format(job_category, page)"
   ]
  },
  {
   "cell_type": "code",
   "execution_count": null,
   "metadata": {},
   "outputs": [],
   "source": []
  }
 ],
 "metadata": {
  "kernelspec": {
   "display_name": ".env",
   "language": "python",
   "name": "python3"
  },
  "language_info": {
   "codemirror_mode": {
    "name": "ipython",
    "version": 3
   },
   "file_extension": ".py",
   "mimetype": "text/x-python",
   "name": "python",
   "nbconvert_exporter": "python",
   "pygments_lexer": "ipython3",
   "version": "3.12.4"
  }
 },
 "nbformat": 4,
 "nbformat_minor": 2
}
