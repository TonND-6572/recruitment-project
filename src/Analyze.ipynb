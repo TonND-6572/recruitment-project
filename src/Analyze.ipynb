{
 "cells": [
  {
   "cell_type": "code",
   "execution_count": 3,
   "metadata": {},
   "outputs": [],
   "source": [
    "from pyspark.sql import SparkSession as sc\n",
    "from pyspark.sql.functions import col, lit, explode, avg, to_timestamp\n",
    "from pyspark.sql.types import StructType, StructField, StringType, ArrayType\n",
    "from pyspark.sql import functions as F\n",
    "\n",
    "sc = sc.builder.getOrCreate()"
   ]
  },
  {
   "cell_type": "code",
   "execution_count": 5,
   "metadata": {},
   "outputs": [
    {
     "data": {
      "text/plain": [
       "StructType([StructField('Title', StringType(), True), StructField('Last_updated', TimestampType(), True), StructField('Created_time', TimestampType(), True), StructField('Skills', ArrayType(StringType(), True), True), StructField('Requirement', ArrayType(StringType(), True), True), StructField('Hirer', StringType(), True), StructField('Company_link', StringType(), True), StructField('Company_location', StringType(), True), StructField('Category', ArrayType(StringType(), True), True), StructField('jobDecription', StringType(), True), StructField('min_salary', IntegerType(), True), StructField('max_salary', IntegerType(), True), StructField('salary_range', StringType(), True), StructField('location', StringType(), True), StructField('work_type', StringType(), True), StructField('work_time_type', StringType(), True), StructField('company_name', StringType(), True)])"
      ]
     },
     "execution_count": 5,
     "metadata": {},
     "output_type": "execute_result"
    }
   ],
   "source": [
    "# path = r'file:///E:\\IDE_workspace\\VSCode\\recruitment_project\\Data\\computer-information-technology\\silver_layer.csv'\n",
    "hdfs_path = 'hdfs://192.168.48.136:9000/recruitment/silver/'\n",
    "df = sc.read.options(header=True, delimiter=',').csv(hdfs_path)\n",
    "\n",
    "df = df.drop('year', 'month', 'day', 'source', 'jobCategory')\n",
    "\n",
    "df = df.withColumn(\"max_salary\", col(\"max_salary\").cast(\"integer\")) \\\n",
    "        .withColumn(\"min_salary\", col(\"min_salary\").cast(\"integer\")) \\\n",
    "        .withColumn('Skills', F.from_json('Skills', ArrayType(StringType()))) \\\n",
    "        .withColumn('Requirement', F.from_json('Requirement', ArrayType(StringType()))) \\\n",
    "        .withColumn('Category', F.from_json('Category', ArrayType(StringType()))) \\\n",
    "        .withColumn('Created_time', to_timestamp(col('Created_time'), 'yyyy-MM-dd HH:mm:ss')) \\\n",
    "        .withColumn('Last_updated', to_timestamp(col('Last_updated'), 'yyyy-MM-dd HH:mm:ss'))\n",
    "df.schema"
   ]
  },
  {
   "cell_type": "markdown",
   "metadata": {},
   "source": [
    "# Question:\n",
    "What will we do with those data:\n",
    "\n",
    "- Identify the skills most frequently required by companies.\n",
    "- Determine the average salary for each skill.\n",
    "- Locate the areas with the highest job concentration.\n",
    "- What companies have the most job"
   ]
  },
  {
   "cell_type": "code",
   "execution_count": 4,
   "metadata": {},
   "outputs": [
    {
     "name": "stdout",
     "output_type": "stream",
     "text": [
      "+--------------------+-------------------+-------------------+--------------------+-------------------+------------------+--------------------+--------------------+--------------------+----------+----------+------------+--------------------+---------------+-----------------+-------------------+\n",
      "|               Title|       Last_updated|       Created_time|              Skills|        Requirement|             Hirer|        Company_link|    Company_location|            Category|min_salary|max_salary|salary_range|            location|      work_type|   work_time_type|       company_name|\n",
      "+--------------------+-------------------+-------------------+--------------------+-------------------+------------------+--------------------+--------------------+--------------------+----------+----------+------------+--------------------+---------------+-----------------+-------------------+\n",
      "|THỰC TẬP SINH .NE...|2024-08-02 13:47:40|2024-09-01 13:47:40|          E-commerce|[Tối thiểu Cử Nhân]|W2SOLUTION VIETNAM|https://glints.co...|95A1 Trần Quốc To...|[Công Nghệ Thông ...|   1000000|   3000000|         <5M|Quận Ba, Thành ph...|Làm tại công ty|Việc làm fulltime|W2SOLUTION VIỆT NAM|\n",
      "|THỰC TẬP SINH .NE...|2024-08-02 13:47:40|2024-09-01 13:47:40|Information Techn...|[Tối thiểu Cử Nhân]|W2SOLUTION VIETNAM|https://glints.co...|95A1 Trần Quốc To...|[Công Nghệ Thông ...|   1000000|   3000000|         <5M|Quận Ba, Thành ph...|Làm tại công ty|Việc làm fulltime|W2SOLUTION VIỆT NAM|\n",
      "|THỰC TẬP SINH .NE...|2024-08-02 13:47:40|2024-09-01 13:47:40|                  C#|[Tối thiểu Cử Nhân]|W2SOLUTION VIETNAM|https://glints.co...|95A1 Trần Quốc To...|[Công Nghệ Thông ...|   1000000|   3000000|         <5M|Quận Ba, Thành ph...|Làm tại công ty|Việc làm fulltime|W2SOLUTION VIỆT NAM|\n",
      "|THỰC TẬP SINH .NE...|2024-08-02 13:47:40|2024-09-01 13:47:40|         It Phần Mềm|[Tối thiểu Cử Nhân]|W2SOLUTION VIETNAM|https://glints.co...|95A1 Trần Quốc To...|[Công Nghệ Thông ...|   1000000|   3000000|         <5M|Quận Ba, Thành ph...|Làm tại công ty|Việc làm fulltime|W2SOLUTION VIỆT NAM|\n",
      "|THỰC TẬP SINH .NE...|2024-08-02 13:47:40|2024-09-01 13:47:40|                 SQL|[Tối thiểu Cử Nhân]|W2SOLUTION VIETNAM|https://glints.co...|95A1 Trần Quốc To...|[Công Nghệ Thông ...|   1000000|   3000000|         <5M|Quận Ba, Thành ph...|Làm tại công ty|Việc làm fulltime|W2SOLUTION VIỆT NAM|\n",
      "+--------------------+-------------------+-------------------+--------------------+-------------------+------------------+--------------------+--------------------+--------------------+----------+----------+------------+--------------------+---------------+-----------------+-------------------+\n",
      "only showing top 5 rows\n",
      "\n"
     ]
    }
   ],
   "source": [
    "# Explode 'Skills' column and select all columns from original DataFrame + exploded 'Skills'\n",
    "exploded_skill = df.withColumn(\"Skills\", explode(df['Skills']))\n",
    "\n",
    "exploded_skill.show(5)"
   ]
  },
  {
   "cell_type": "code",
   "execution_count": 5,
   "metadata": {},
   "outputs": [
    {
     "name": "stdout",
     "output_type": "stream",
     "text": [
      "+--------------------+---+------+-------+-------+----+-------+-----+\n",
      "|              Skills|<5M|5M-12M|12M-20M|20M-27M|>27M|Unknown|total|\n",
      "+--------------------+---+------+-------+-------+----+-------+-----+\n",
      "|   English Languange|  7|     7|     15|      9|  24|     14|   76|\n",
      "|            Teamwork|  3|     7|      8|      3|  10|     25|   56|\n",
      "|                 SQL|  2|     1|      8|      3|   6|      8|   28|\n",
      "|          JavaScript|  1|     2|      3|      1|   5|     15|   27|\n",
      "|    Software Testing|  3|     4|      7|      1|   2|      7|   24|\n",
      "|      Manual Testing|  3|     6|      3|      1|   1|      7|   21|\n",
      "|    Microsoft Office|  1|     5|      2|      1|   3|      8|   20|\n",
      "|              Python|  0|     1|      4|      4|   5|      5|   19|\n",
      "|                Java|  0|     0|      3|      1|   6|      9|   19|\n",
      "|Software Development|  0|     0|      4|      2|   5|      6|   17|\n",
      "|Frontend Development|  1|     0|      3|      0|   5|      6|   15|\n",
      "|                .NET|  0|     0|      3|      3|   3|      5|   14|\n",
      "|Communication Skills|  0|     3|      1|      0|   4|      5|   13|\n",
      "|             Node.js|  0|     0|      2|      3|   1|      7|   13|\n",
      "|Software Engineering|  0|     1|      1|      3|   5|      2|   12|\n",
      "|     Web Development|  0|     0|      2|      2|   3|      4|   11|\n",
      "|Programming Langu...|  2|     0|      2|      1|   3|      3|   11|\n",
      "|                 PHP|  0|     1|      1|      3|   3|      3|   11|\n",
      "|Back-End Web Deve...|  0|     0|      5|      1|   2|      2|   10|\n",
      "|Information Techn...|  1|     0|      3|      0|   2|      4|   10|\n",
      "+--------------------+---+------+-------+-------+----+-------+-----+\n",
      "only showing top 20 rows\n",
      "\n"
     ]
    }
   ],
   "source": [
    "# Identify the skills with the highest count\n",
    "# exploded_skill.groupBy('Exploded_Skill') \\\n",
    "#     .agg(\n",
    "#         F.round(F.avg((F.col('min_salary') + F.col('max_salary')/ 2)), 2).alias('avg_salary'), \n",
    "#         F.count('Title').alias('count')) \\\n",
    "#     .orderBy('avg_salary', ascending=False).show(truncate=False)\n",
    "\n",
    " # Pivoting salary_range and grouping by Skills\n",
    "pivot_df = exploded_skill.groupBy('Skills') \\\n",
    "    .pivot('salary_range') \\\n",
    "    .agg(F.count('Title')) \\\n",
    "    .fillna(0) \\\n",
    "\n",
    "# Add a 'total' column to sum across all salary ranges\n",
    "pivot_df = pivot_df.withColumn('total', \n",
    "    sum(pivot_df[col] for col in pivot_df.columns if col != 'Skills')) \\\n",
    "    .orderBy('total', ascending=False)\n",
    "\n",
    "# After pivoting and adding the 'total' column, reorder the columns\n",
    "ordered_df = pivot_df.select(\n",
    "    'Skills',   \n",
    "    '<5M',      # Specify the order of salary range columns\n",
    "    '5M-12M', \n",
    "    '12M-20M', \n",
    "    '20M-27M', \n",
    "    '>27M', \n",
    "    'Unknown',  # Put 'Unknown' at the end of salary ranges\n",
    "    'total'     # Keep 'total' as the last column\n",
    ")\n",
    "\n",
    "# Show the result with the reordered columns\n",
    "ordered_df.show()"
   ]
  },
  {
   "cell_type": "code",
   "execution_count": 15,
   "metadata": {},
   "outputs": [
    {
     "name": "stdout",
     "output_type": "stream",
     "text": [
      "+--------------------+-------------------+-------------------+--------------------+-----------+--------------------+--------------------+--------------------+----------+----------+------------+--------------------+---------------+-----------------+--------------------+--------------+\n",
      "|               Title|       Last_updated|       Created_time|         Requirement|      Hirer|        Company_link|    Company_location|            Category|min_salary|max_salary|salary_range|            location|      work_type|   work_time_type|        company_name|Exploded_Skill|\n",
      "+--------------------+-------------------+-------------------+--------------------+-----------+--------------------+--------------------+--------------------+----------+----------+------------+--------------------+---------------+-----------------+--------------------+--------------+\n",
      "|Giám Đốc Công Ngh...|2024-08-06 13:38:46|2024-09-01 13:38:46|[5 - 10 năm kinh ...|Phương Đoàn|https://glints.co...|Tòa CIC, 219 Trun...|[Computer & Infor...|  50000000| 100000000|        >27M|Quận Cầu Giấy, Hà...|Làm tại công ty|Việc làm fulltime|Công ty Cổ Phần S...|           Cto|\n",
      "+--------------------+-------------------+-------------------+--------------------+-----------+--------------------+--------------------+--------------------+----------+----------+------------+--------------------+---------------+-----------------+--------------------+--------------+\n",
      "\n"
     ]
    }
   ],
   "source": [
    "exploded_skill.filter(exploded_skill.Exploded_Skill == 'Cto').show()"
   ]
  },
  {
   "cell_type": "code",
   "execution_count": 6,
   "metadata": {},
   "outputs": [
    {
     "name": "stdout",
     "output_type": "stream",
     "text": [
      "+--------------------+-------------------+-------------------+--------------------+--------------------+------------------+--------------------+--------------------+--------------------+----------+----------+------------+--------------------+---------------+--------------------+--------------------+\n",
      "|               Title|       Last_updated|       Created_time|              Skills|         Requirement|             Hirer|        Company_link|    Company_location|            Category|min_salary|max_salary|salary_range|            location|      work_type|      work_time_type|        company_name|\n",
      "+--------------------+-------------------+-------------------+--------------------+--------------------+------------------+--------------------+--------------------+--------------------+----------+----------+------------+--------------------+---------------+--------------------+--------------------+\n",
      "|THỰC TẬP SINH .NE...|2024-08-02 13:47:40|2024-09-01 13:47:40|[E-commerce, Info...|   Tối thiểu Cử Nhân|W2SOLUTION VIETNAM|https://glints.co...|95A1 Trần Quốc To...|[Công Nghệ Thông ...|   1000000|   3000000|         <5M|Quận Ba, Thành ph...|Làm tại công ty|   Việc làm fulltime| W2SOLUTION VIỆT NAM|\n",
      "|NHÂN VIÊN GIÁM SÁ...|2024-08-09 13:30:22|2024-09-01 13:30:22|[Microsoft Excel,...|  Tối thiểu Cao Đẳng| Ktri Công ty tnhh|https://glints.co...|Phòng G05, Tầng t...|[Công Nghệ Thông ...|    500000|   2500000|         <5M|Quận Thủ Đức, Thà...|      Làm từ xa|Việc làm bán thời...|   Công ty tnhh ktri|\n",
      "|[HCM] Anh Ngữ Edu...|2024-08-21 13:12:24|2024-09-01 13:12:24|[Strong Communica...|Dưới một năm kinh...|          Đăng Bùi|https://glints.co...|371 Đ. Nguyễn Kiệ...|[Công Nghệ Thông ...|     45000|    155000|         <5M|Quận Một, Thành p...|      Làm từ xa|           Theo Ngày|Công ty CP Đầu tư...|\n",
      "|[HCM] Anh Ngữ Edu...|2024-08-21 13:12:24|2024-09-01 13:12:24|[Strong Communica...|  Tối thiểu Cao Đẳng|          Đăng Bùi|https://glints.co...|371 Đ. Nguyễn Kiệ...|[Công Nghệ Thông ...|     45000|    155000|         <5M|Quận Một, Thành p...|      Làm từ xa|           Theo Ngày|Công ty CP Đầu tư...|\n",
      "|Software Testing ...|2024-08-07 13:34:16|2024-09-01 13:34:16|[Agile Methodolog...|Dưới một năm kinh...| Hamsa Corporation|https://glints.co...|CIC Tower, 2 Nguy...|[Công Nghệ Thông ...|   1000000|   4000000|         <5M|Quận Cầu Giấy, Hà...|Làm tại công ty|   Việc làm fulltime|   Hamsa Corporation|\n",
      "|Software Testing ...|2024-08-07 13:34:16|2024-09-01 13:34:16|[Agile Methodolog...|   Tối thiểu Cử Nhân| Hamsa Corporation|https://glints.co...|CIC Tower, 2 Nguy...|[Công Nghệ Thông ...|   1000000|   4000000|         <5M|Quận Cầu Giấy, Hà...|Làm tại công ty|   Việc làm fulltime|   Hamsa Corporation|\n",
      "|Software Testing ...|2024-08-07 13:34:16|2024-09-01 13:34:16|[Agile Methodolog...|          20-24 tuổi| Hamsa Corporation|https://glints.co...|CIC Tower, 2 Nguy...|[Công Nghệ Thông ...|   1000000|   4000000|         <5M|Quận Cầu Giấy, Hà...|Làm tại công ty|   Việc làm fulltime|   Hamsa Corporation|\n",
      "|QA Manager - Nghệ...|2024-08-02 13:46:49|2024-09-01 13:46:49|[Trưởng Phòng Chấ...|3 - 5 năm kinh ng...|Tuyển dụng Bộ phận|https://glints.co...|Số 19-21, Lô D5A ...|[Công Nghệ Thông ...|         1|         1|         <5M|     Tân Kỳ, Nghệ An|Làm tại công ty|   Việc làm fulltime|Công ty Cổ phần T...|\n",
      "|QA Manager - Nghệ...|2024-08-02 13:46:49|2024-09-01 13:46:49|[Trưởng Phòng Chấ...|   Tối thiểu Cử Nhân|Tuyển dụng Bộ phận|https://glints.co...|Số 19-21, Lô D5A ...|[Công Nghệ Thông ...|         1|         1|         <5M|     Tân Kỳ, Nghệ An|Làm tại công ty|   Việc làm fulltime|Công ty Cổ phần T...|\n",
      "|           IT INTERN|2024-08-22 13:06:46|2024-09-01 13:06:46|[Information Syst...|Dưới một năm kinh...|            HR UBL|https://glints.co...|49 Thảo Điền, Phư...|[Computer & Infor...|   2000000|   2500000|         <5M|Quận Hai, Thành p...|Làm tại công ty|            Thực Tập|Công Ty Tnhh Liên...|\n",
      "|           IT INTERN|2024-08-22 13:06:46|2024-09-01 13:06:46|[Information Syst...|   Tối thiểu Cử Nhân|            HR UBL|https://glints.co...|49 Thảo Điền, Phư...|[Computer & Infor...|   2000000|   2500000|         <5M|Quận Hai, Thành p...|Làm tại công ty|            Thực Tập|Công Ty Tnhh Liên...|\n",
      "|Web Developer (Mi...|2024-08-22 13:07:19|2024-09-01 13:07:19|[Nodejs, React.js...|3 - 5 năm kinh ng...|           Ha Tran|https://glints.co...|81 Cao Thang, D3,...|[Công Nghệ Thông ...|      1100|      1500|         <5M|Quận Ba, Thành ph...|Làm tại công ty|   Việc làm fulltime|       Live Payments|\n",
      "|Web Developer (Mi...|2024-08-22 13:07:19|2024-09-01 13:07:19|[Nodejs, React.js...|   Tối thiểu Cử Nhân|           Ha Tran|https://glints.co...|81 Cao Thang, D3,...|[Công Nghệ Thông ...|      1100|      1500|         <5M|Quận Ba, Thành ph...|Làm tại công ty|   Việc làm fulltime|       Live Payments|\n",
      "|Web Developer (Mi...|2024-08-22 13:07:19|2024-09-01 13:07:19|[Nodejs, React.js...|          26-30 tuổi|           Ha Tran|https://glints.co...|81 Cao Thang, D3,...|[Công Nghệ Thông ...|      1100|      1500|         <5M|Quận Ba, Thành ph...|Làm tại công ty|   Việc làm fulltime|       Live Payments|\n",
      "|       Data Engineer|2024-08-22 13:07:26|2024-09-01 13:07:26|[Data Model, SQL,...|3 - 5 năm kinh ng...|           Ha Tran|https://glints.co...|81 Cao Thang, D3,...|[Công Nghệ Thông ...|      1300|      2000|         <5M|Quận Ba, Thành ph...|Làm tại công ty|   Việc làm fulltime|       Live Payments|\n",
      "|       Data Engineer|2024-08-22 13:07:26|2024-09-01 13:07:26|[Data Model, SQL,...|   Tối thiểu Cử Nhân|           Ha Tran|https://glints.co...|81 Cao Thang, D3,...|[Công Nghệ Thông ...|      1300|      2000|         <5M|Quận Ba, Thành ph...|Làm tại công ty|   Việc làm fulltime|       Live Payments|\n",
      "|Senior Manual Tester|2024-08-22 13:07:40|2024-09-01 13:07:40|[Agile Methodolog...|5 - 10 năm kinh n...|           Ha Tran|https://glints.co...|81 Cao Thang, D3,...|[Công Nghệ Thông ...|      1300|      1800|         <5M|Quận Ba, Thành ph...|Làm tại công ty|   Việc làm fulltime|       Live Payments|\n",
      "|Senior Manual Tester|2024-08-22 13:07:40|2024-09-01 13:07:40|[Agile Methodolog...|   Tối thiểu Cử Nhân|           Ha Tran|https://glints.co...|81 Cao Thang, D3,...|[Công Nghệ Thông ...|      1300|      1800|         <5M|Quận Ba, Thành ph...|Làm tại công ty|   Việc làm fulltime|       Live Payments|\n",
      "|Senior Manual Tester|2024-08-22 13:07:40|2024-09-01 13:07:40|[Agile Methodolog...|          28-35 tuổi|           Ha Tran|https://glints.co...|81 Cao Thang, D3,...|[Công Nghệ Thông ...|      1300|      1800|         <5M|Quận Ba, Thành ph...|Làm tại công ty|   Việc làm fulltime|       Live Payments|\n",
      "|Junior Fullstack ...|2024-08-22 13:07:48|2024-09-01 13:07:48|[jQuery, ASP.NET,...|1 - 3 năm kinh ng...|           Ha Tran|https://glints.co...|81 Cao Thang, D3,...|[Công Nghệ Thông ...|      1000|      1200|         <5M|Quận Ba, Thành ph...|Làm tại công ty|   Việc làm fulltime|       Live Payments|\n",
      "+--------------------+-------------------+-------------------+--------------------+--------------------+------------------+--------------------+--------------------+--------------------+----------+----------+------------+--------------------+---------------+--------------------+--------------------+\n",
      "only showing top 20 rows\n",
      "\n"
     ]
    }
   ],
   "source": [
    "# Explode 'Skills' column and select all columns from original DataFrame\n",
    "exploded_requirement = df.withColumn(\"Requirement\", explode(df['Requirement']))\n",
    "\n",
    "exploded_requirement.show()"
   ]
  },
  {
   "cell_type": "code",
   "execution_count": 7,
   "metadata": {},
   "outputs": [
    {
     "name": "stdout",
     "output_type": "stream",
     "text": [
      "+-----------------------------+-------------+-----+\n",
      "|Requirement                  |avg_salary   |count|\n",
      "+-----------------------------+-------------+-----+\n",
      "|Tối thiểu Cử Nhân            |2.005261566E7|234  |\n",
      "|1 - 3 năm kinh nghiệm        |2.058617987E7|159  |\n",
      "|3 - 5 năm kinh nghiệm        |2.322920991E7|96   |\n",
      "|Tối thiểu Cao Đẳng           |2.23170078E7 |66   |\n",
      "|Dưới một năm kinh nghiệm     |8975511.98   |44   |\n",
      "|5 - 10 năm kinh nghiệm       |2.790748889E7|27   |\n",
      "|Giới tính Nam                |1.832692308E7|26   |\n",
      "|Tối thiểu Trung Học Phổ Thông|1.523684211E7|19   |\n",
      "|Tối thiểu Bằng Liên Kết      |1.675005556E7|18   |\n",
      "|25-35 tuổi                   |1.533333333E7|6    |\n",
      "|22-40 tuổi                   |7375000.0    |4    |\n",
      "|20-30 tuổi                   |1.4125E7     |4    |\n",
      "|25-40 tuổi                   |2.816666667E7|3    |\n",
      "|22-27 tuổi                   |1.4E7        |2    |\n",
      "|18-35 tuổi                   |1.2675E7     |2    |\n",
      "|35-45 tuổi                   |0.0          |2    |\n",
      "|25-34 tuổi                   |6.025E7      |2    |\n",
      "|22-26 tuổi                   |5750000.0    |2    |\n",
      "|20-28 tuổi                   |8500000.0    |2    |\n",
      "|30-45 tuổi                   |1.45E7       |2    |\n",
      "+-----------------------------+-------------+-----+\n",
      "only showing top 20 rows\n",
      "\n"
     ]
    }
   ],
   "source": [
    "exploded_requirement.groupBy('Requirement') \\\n",
    "    .agg(\n",
    "        F.round(F.avg((F.col('min_salary') + F.col('max_salary')/ 2)), 2).alias('avg_salary'),\n",
    "        F.count('Title').alias('count')) \\\n",
    "    .orderBy('count', ascending=False).show(truncate=False)"
   ]
  },
  {
   "cell_type": "code",
   "execution_count": 9,
   "metadata": {},
   "outputs": [
    {
     "name": "stdout",
     "output_type": "stream",
     "text": [
      "+--------------------+-------------------+-------------------+--------------------+--------------------+--------+--------------------+--------------------+--------------------+----------+----------+------------+--------------------+---------------+-----------------+--------------------+\n",
      "|               Title|       Last_updated|       Created_time|              Skills|         Requirement|   Hirer|        Company_link|    Company_location|            Category|min_salary|max_salary|salary_range|            location|      work_type|   work_time_type|        company_name|\n",
      "+--------------------+-------------------+-------------------+--------------------+--------------------+--------+--------------------+--------------------+--------------------+----------+----------+------------+--------------------+---------------+-----------------+--------------------+\n",
      "|Full Stack Developer|2024-08-22 13:08:38|2024-09-01 13:08:38|[SQL, Spring Boot...|[5 - 10 năm kinh ...|HR JuYou|https://glints.co...|Lầu 1, Toà nhà Ha...|[Công Nghệ Thông ...|  62000000|  75000000|        >27M|Quận Bình Thạnh, ...|Làm tại công ty|Việc làm fulltime|Công ty TNHH TMDV...|\n",
      "+--------------------+-------------------+-------------------+--------------------+--------------------+--------+--------------------+--------------------+--------------------+----------+----------+------------+--------------------+---------------+-----------------+--------------------+\n",
      "\n"
     ]
    }
   ],
   "source": [
    "from pyspark.sql.functions import array_contains, col\n",
    "\n",
    "df.where(array_contains(col('Requirement'), '30-55 tuổi')).show()"
   ]
  },
  {
   "cell_type": "code",
   "execution_count": 10,
   "metadata": {},
   "outputs": [
    {
     "name": "stdout",
     "output_type": "stream",
     "text": [
      "+--------------------+-------------------+-------------------+--------------------+-----------------+------------------+--------------------+--------------------+--------------------+----------+----------+------------+--------------------+---------------+-----------------+-------------------+\n",
      "|               Title|       Last_updated|       Created_time|              Skills|      Requirement|             Hirer|        Company_link|    Company_location|            Category|min_salary|max_salary|salary_range|            location|      work_type|   work_time_type|       company_name|\n",
      "+--------------------+-------------------+-------------------+--------------------+-----------------+------------------+--------------------+--------------------+--------------------+----------+----------+------------+--------------------+---------------+-----------------+-------------------+\n",
      "|THỰC TẬP SINH .NE...|2024-08-02 13:47:40|2024-09-01 13:47:40|          E-commerce|Tối thiểu Cử Nhân|W2SOLUTION VIETNAM|https://glints.co...|95A1 Trần Quốc To...|[Công Nghệ Thông ...|   1000000|   3000000|         <5M|Quận Ba, Thành ph...|Làm tại công ty|Việc làm fulltime|W2SOLUTION VIỆT NAM|\n",
      "|THỰC TẬP SINH .NE...|2024-08-02 13:47:40|2024-09-01 13:47:40|Information Techn...|Tối thiểu Cử Nhân|W2SOLUTION VIETNAM|https://glints.co...|95A1 Trần Quốc To...|[Công Nghệ Thông ...|   1000000|   3000000|         <5M|Quận Ba, Thành ph...|Làm tại công ty|Việc làm fulltime|W2SOLUTION VIỆT NAM|\n",
      "|THỰC TẬP SINH .NE...|2024-08-02 13:47:40|2024-09-01 13:47:40|                  C#|Tối thiểu Cử Nhân|W2SOLUTION VIETNAM|https://glints.co...|95A1 Trần Quốc To...|[Công Nghệ Thông ...|   1000000|   3000000|         <5M|Quận Ba, Thành ph...|Làm tại công ty|Việc làm fulltime|W2SOLUTION VIỆT NAM|\n",
      "|THỰC TẬP SINH .NE...|2024-08-02 13:47:40|2024-09-01 13:47:40|         It Phần Mềm|Tối thiểu Cử Nhân|W2SOLUTION VIETNAM|https://glints.co...|95A1 Trần Quốc To...|[Công Nghệ Thông ...|   1000000|   3000000|         <5M|Quận Ba, Thành ph...|Làm tại công ty|Việc làm fulltime|W2SOLUTION VIỆT NAM|\n",
      "|THỰC TẬP SINH .NE...|2024-08-02 13:47:40|2024-09-01 13:47:40|                 SQL|Tối thiểu Cử Nhân|W2SOLUTION VIETNAM|https://glints.co...|95A1 Trần Quốc To...|[Công Nghệ Thông ...|   1000000|   3000000|         <5M|Quận Ba, Thành ph...|Làm tại công ty|Việc làm fulltime|W2SOLUTION VIỆT NAM|\n",
      "+--------------------+-------------------+-------------------+--------------------+-----------------+------------------+--------------------+--------------------+--------------------+----------+----------+------------+--------------------+---------------+-----------------+-------------------+\n",
      "only showing top 5 rows\n",
      "\n"
     ]
    }
   ],
   "source": [
    "# Exploded Skills and Requirement\n",
    "\n",
    "# Explode 'Skills' column and select all columns from original DataFrame\n",
    "exploded_requirement_skill = exploded_skill.withColumn(\"Requirement\", explode(exploded_skill['Requirement']))\n",
    "\n",
    "exploded_requirement_skill.show(5)"
   ]
  },
  {
   "cell_type": "code",
   "execution_count": 15,
   "metadata": {},
   "outputs": [],
   "source": [
    "filter = exploded_requirement_skill \\\n",
    "    .where(~col('Requirement').rlike('tuổi'))"
   ]
  },
  {
   "cell_type": "code",
   "execution_count": 60,
   "metadata": {},
   "outputs": [
    {
     "name": "stdout",
     "output_type": "stream",
     "text": [
      "+--------------------+-----------------+------------------+------------------------+---------------------+---------------------+----------------------+\n",
      "|              Skills|Tối thiểu Cử Nhân|Tối thiểu Cao Đẳng|Dưới một năm kinh nghiệm|1 - 3 năm kinh nghiệm|3 - 5 năm kinh nghiệm|5 - 10 năm kinh nghiệm|\n",
      "+--------------------+-----------------+------------------+------------------------+---------------------+---------------------+----------------------+\n",
      "|       Hand-ons Task|            7.5E7|               0.0|                     0.0|                7.5E7|                  0.0|                   0.0|\n",
      "| Machine Translation|            7.5E7|               0.0|                     0.0|                  0.0|                7.5E7|                   0.0|\n",
      "|         Linguistics|            7.5E7|               0.0|                     0.0|                  0.0|                7.5E7|                   0.0|\n",
      "|Large Language Mo...|            7.5E7|               0.0|                     0.0|                  0.0|                7.5E7|                   0.0|\n",
      "|  Sentiment Analysis|            7.5E7|               0.0|                     0.0|                  0.0|                7.5E7|                   0.0|\n",
      "|                 Cto|            7.5E7|               0.0|                     0.0|                  0.0|                  0.0|                 7.5E7|\n",
      "|Python (programmi...|            7.5E7|               0.0|                     0.0|                  0.0|                7.5E7|                   0.0|\n",
      "|   Cognitive Science|            7.5E7|               0.0|                     0.0|                  0.0|                7.5E7|                   0.0|\n",
      "|         Spring Boot|           6.85E7|               0.0|                     0.0|                  0.0|                  0.0|                6.85E7|\n",
      "|    Head Of Delivery|            5.0E7|               0.0|                     0.0|                  0.0|                5.0E7|                   0.0|\n",
      "| Business Management|            5.0E7|               0.0|                     0.0|                  0.0|                5.0E7|                   0.0|\n",
      "|            American|            5.0E7|               0.0|                     0.0|                  0.0|                5.0E7|                   0.0|\n",
      "|Information Security|            4.5E7|             3.6E7|                     0.0|                  0.0|                4.5E7|                 3.6E7|\n",
      "|     Project Manager|           3.75E7|               0.0|                     0.0|                3.5E7|              3.875E7|                   0.0|\n",
      "|Solution Architec...|           3.75E7|               0.0|                     0.0|                  0.0|                  0.0|                 7.5E7|\n",
      "|Artificial Intell...|           3.75E7|             1.6E7|                     0.0|                1.6E7|                7.5E7|                   0.0|\n",
      "|          Databricks|            3.5E7|               0.0|                     0.0|                  0.0|                3.5E7|                   0.0|\n",
      "|              Drupal|            3.4E7|               0.0|                     0.0|                  0.0|                  0.0|                 3.4E7|\n",
      "|           Test Rail|           3.25E7|               0.0|                     0.0|                  0.0|                  0.0|                3.25E7|\n",
      "|      Android Studio|           3.25E7|               0.0|                     0.0|               3.25E7|                  0.0|                   0.0|\n",
      "+--------------------+-----------------+------------------+------------------------+---------------------+---------------------+----------------------+\n",
      "only showing top 20 rows\n",
      "\n"
     ]
    }
   ],
   "source": [
    "# result = filter.groupBy('Skills') \\\n",
    "#     .pivot('Requirement') \\\n",
    "#     .agg(F.count('Title').alias('count')) \\\n",
    "#     .fillna(0)'\n",
    "cols = ['Skills',\n",
    "        'Tối thiểu Cử Nhân',\n",
    "        'Tối thiểu Cao Đẳng',\n",
    "        'Dưới một năm kinh nghiệm', \n",
    "        '1 - 3 năm kinh nghiệm', \n",
    "        '3 - 5 năm kinh nghiệm', \n",
    "        '5 - 10 năm kinh nghiệm',\n",
    "        # 'Tối thiểu Tiểu Học',\n",
    "        # 'Tối thiểu Trung Học Phổ Thông',\n",
    "        # 'Tối thiểu Bằng Liên Kết',\n",
    "    ]\n",
    "\n",
    "result = filter.groupBy('Skills') \\\n",
    "    .pivot('Requirement') \\\n",
    "    .agg( \n",
    "        F.round(F.avg(((F.col('min_salary') + F.col('max_salary'))/ 2)), 2)) \\\n",
    "    .fillna(0) \\\n",
    "    .select(cols) \\\n",
    "    .orderBy('Tối thiểu Cử Nhân', ascending=False)\n",
    "\n",
    "result.show()"
   ]
  },
  {
   "cell_type": "code",
   "execution_count": 63,
   "metadata": {},
   "outputs": [],
   "source": [
    "path = r'file:///E:\\IDE_workspace\\VSCode\\recruitment_project\\Data\\report'\n",
    "\n",
    "result.write.format('csv')\\\n",
    "    .option('header', 'true')\\\n",
    "    .save(path)"
   ]
  },
  {
   "cell_type": "code",
   "execution_count": 66,
   "metadata": {},
   "outputs": [
    {
     "name": "stdout",
     "output_type": "stream",
     "text": [
      "+--------------------+-------------------+-------------------+-------------------+--------------------+----------+--------------------+--------------------+--------------------+----------+----------+------------+--------------------+---------+-----------------+------------------+\n",
      "|               Title|       Last_updated|       Created_time|             Skills|         Requirement|     Hirer|        Company_link|    Company_location|            Category|min_salary|max_salary|salary_range|            location|work_type|   work_time_type|      company_name|\n",
      "+--------------------+-------------------+-------------------+-------------------+--------------------+----------+--------------------+--------------------+--------------------+----------+----------+------------+--------------------+---------+-----------------+------------------+\n",
      "|[HN/HCM] Senior A...|2024-08-27 12:56:12|2024-09-01 12:56:12|Machine Translation|3 - 5 năm kinh ng...|Nga Nguyễn|https://glints.co...|Tầng 2, số 106 Tô...|[Computer & Infor...|  50000000| 100000000|        >27M|Quận Đống Đa, Hà Nội|   Hybrid|Việc làm fulltime|Vietwonder Company|\n",
      "|[HN/HCM] Senior A...|2024-08-27 12:56:12|2024-09-01 12:56:12|Machine Translation|   Tối thiểu Cử Nhân|Nga Nguyễn|https://glints.co...|Tầng 2, số 106 Tô...|[Computer & Infor...|  50000000| 100000000|        >27M|Quận Đống Đa, Hà Nội|   Hybrid|Việc làm fulltime|Vietwonder Company|\n",
      "|[HN/HCM] Senior A...|2024-08-27 12:56:12|2024-09-01 12:56:12|Machine Translation|          25-34 tuổi|Nga Nguyễn|https://glints.co...|Tầng 2, số 106 Tô...|[Computer & Infor...|  50000000| 100000000|        >27M|Quận Đống Đa, Hà Nội|   Hybrid|Việc làm fulltime|Vietwonder Company|\n",
      "+--------------------+-------------------+-------------------+-------------------+--------------------+----------+--------------------+--------------------+--------------------+----------+----------+------------+--------------------+---------+-----------------+------------------+\n",
      "\n"
     ]
    }
   ],
   "source": [
    "exploded_requirement_skill.where(col('Skills') == 'Machine Translation').show()"
   ]
  },
  {
   "cell_type": "code",
   "execution_count": 68,
   "metadata": {},
   "outputs": [],
   "source": [
    "skills = exploded_skill.select('Skills').distinct()\n",
    "\n",
    "skills.write.format('csv')\\\n",
    "    .option('header', 'true')\\\n",
    "    .save(r'file:///E:\\IDE_workspace\\VSCode\\recruitment_project\\Data\\skills.csv')"
   ]
  },
  {
   "cell_type": "code",
   "execution_count": null,
   "metadata": {},
   "outputs": [],
   "source": []
  }
 ],
 "metadata": {
  "kernelspec": {
   "display_name": "DataEngineer",
   "language": "python",
   "name": "python3"
  },
  "language_info": {
   "codemirror_mode": {
    "name": "ipython",
    "version": 3
   },
   "file_extension": ".py",
   "mimetype": "text/x-python",
   "name": "python",
   "nbconvert_exporter": "python",
   "pygments_lexer": "ipython3",
   "version": "3.12.4"
  }
 },
 "nbformat": 4,
 "nbformat_minor": 2
}
