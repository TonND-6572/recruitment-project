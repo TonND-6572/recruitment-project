{
 "cells": [
  {
   "cell_type": "code",
   "execution_count": 2,
   "metadata": {},
   "outputs": [],
   "source": [
    "from pyspark.sql import SparkSession\n",
    "from pyspark.sql.functions import col, lit, explode, avg, to_timestamp, udf\n",
    "from pyspark.sql.types import StructType, StructField, StringType, ArrayType\n",
    "from pyspark.sql import functions as F\n",
    "\n",
    "sc = SparkSession.builder \\\n",
    "        .appName(\"recruitmentProjectGoldLayer\") \\\n",
    "        .config('spark.hadoop.hive.metastore.uris', \"thrift://wakuwa:9083\") \\\n",
    "        .enableHiveSupport() \\\n",
    "        .config(\"hive.exec.dynamic.partition.mode\", \"nonstrict\") \\\n",
    "        .getOrCreate()"
   ]
  },
  {
   "cell_type": "code",
   "execution_count": 3,
   "metadata": {},
   "outputs": [
    {
     "name": "stdout",
     "output_type": "stream",
     "text": [
      "+---------+\n",
      "|namespace|\n",
      "+---------+\n",
      "|  default|\n",
      "+---------+\n",
      "\n"
     ]
    }
   ],
   "source": [
    "sc.sql('SHOW DATABASES').show()"
   ]
  },
  {
   "cell_type": "code",
   "execution_count": 2,
   "metadata": {},
   "outputs": [
    {
     "data": {
      "text/plain": [
       "StructType([StructField('Title', StringType(), True), StructField('Last_updated', TimestampType(), True), StructField('Created_time', TimestampType(), True), StructField('Skills', ArrayType(StringType(), True), True), StructField('Requirement', ArrayType(StringType(), True), True), StructField('Hirer', StringType(), True), StructField('Company_link', StringType(), True), StructField('Company_location', StringType(), True), StructField('Category', ArrayType(StringType(), True), True), StructField('min_salary', IntegerType(), True), StructField('max_salary', IntegerType(), True), StructField('salary_range', StringType(), True), StructField('location', StringType(), True), StructField('work_type', StringType(), True), StructField('work_time_type', StringType(), True), StructField('company_name', StringType(), True)])"
      ]
     },
     "execution_count": 2,
     "metadata": {},
     "output_type": "execute_result"
    }
   ],
   "source": [
    "base = 'file:///E:\\\\IDE_workspace\\\\VSCode\\\\recruitment_project\\\\Data\\\\'\n",
    "path = base + 'computer-information-technology\\\\silver_layer.csv'\n",
    "hdfs_path = 'hdfs://192.168.48.136:9000/recruitment/silver/'\n",
    "df = sc.read.options(header=True, delimiter=',', multiline=True).csv(path)\n",
    "\n",
    "df = df.drop('year', 'month', 'day', 'source', 'jobCategory', 'job_description')\n",
    "\n",
    "df = df.withColumn(\"max_salary\", col(\"max_salary\").cast(\"integer\")) \\\n",
    "        .withColumn(\"min_salary\", col(\"min_salary\").cast(\"integer\")) \\\n",
    "        .withColumn('Skills', F.from_json('Skills', ArrayType(StringType()))) \\\n",
    "        .withColumn('Requirement', F.from_json('Requirement', ArrayType(StringType()))) \\\n",
    "        .withColumn('Category', F.from_json('Category', ArrayType(StringType()))) \\\n",
    "        .withColumn('Created_time', to_timestamp(col('Created_time'), 'yyyy-MM-dd HH:mm:ss')) \\\n",
    "        .withColumn('Last_updated', to_timestamp(col('Last_updated'), 'yyyy-MM-dd HH:mm:ss'))\n",
    "df.schema"
   ]
  },
  {
   "cell_type": "code",
   "execution_count": 3,
   "metadata": {},
   "outputs": [
    {
     "name": "stdout",
     "output_type": "stream",
     "text": [
      "+--------------------+-------------------+-------------------+--------------------+--------------------+---------+--------------------+--------------------+--------------------+----------+----------+------------+--------------------+---------------+--------------------+--------------------+\n",
      "|               Title|       Last_updated|       Created_time|              Skills|         Requirement|    Hirer|        Company_link|    Company_location|            Category|min_salary|max_salary|salary_range|            location|      work_type|      work_time_type|        company_name|\n",
      "+--------------------+-------------------+-------------------+--------------------+--------------------+---------+--------------------+--------------------+--------------------+----------+----------+------------+--------------------+---------------+--------------------+--------------------+\n",
      "|       Data Engineer|2024-08-22 23:04:10|2024-09-09 23:04:10|[Data Model, SQL,...|[3 - 5 năm kinh n...|  Ha Tran|https://glints.co...|81 Cao Thang, D3,...|[Công Nghệ Thông ...|      1300|      2000|         <5M|Quận Ba, Thành ph...|Làm tại công ty|   Việc làm fulltime|       Live Payments|\n",
      "|Thực tập sinh thi...|2024-09-05 22:47:32|2024-09-09 22:47:32|[2D Animation, 3D...|[Dưới một năm kin...|  KATA HR|https://glints.co...|Số 14, Ngõ 102, đ...|[Computer & Infor...|   3000000|   5000000|         <5M|Quận Hoàng Mai, H...|Làm tại công ty|            Thực Tập|CÔNG TY TNHH THƯƠ...|\n",
      "|          QA Manager|2024-08-22 23:04:18|2024-09-09 23:04:18|[Automation Testi...|[Tối thiểu Cử Nhâ...|  Ha Tran|https://glints.co...|81 Cao Thang, D3,...|[Computer & Infor...|      2600|      3000|         <5M|Quận Ba, Thành ph...|Làm tại công ty|   Việc làm fulltime|       Live Payments|\n",
      "|Cộng tác viên QA ...|2024-08-30 22:53:43|2024-09-09 22:53:43|[Tính Tuân Thủ Th...|[Dưới một năm kin...|HR WEBIFY|https://glints.co...|HCM: 19 Hồ Văn Hu...|[Công Nghệ Thông ...|   2500000|   3500000|         <5M|Quận Phú Nhuận, T...|Làm tại công ty|Việc làm bán thời...|CÔNG TY CỔ PHẦN W...|\n",
      "|Junior Fullstack ...|2024-08-22 23:04:30|2024-09-09 23:04:30|[jQuery, ASP.NET,...|[1 - 3 năm kinh n...|  Ha Tran|https://glints.co...|81 Cao Thang, D3,...|[Công Nghệ Thông ...|      1000|      1200|         <5M|Quận Ba, Thành ph...|Làm tại công ty|   Việc làm fulltime|       Live Payments|\n",
      "+--------------------+-------------------+-------------------+--------------------+--------------------+---------+--------------------+--------------------+--------------------+----------+----------+------------+--------------------+---------------+--------------------+--------------------+\n",
      "only showing top 5 rows\n",
      "\n"
     ]
    }
   ],
   "source": [
    "df.show(5)"
   ]
  },
  {
   "cell_type": "markdown",
   "metadata": {},
   "source": [
    "# Question:\n",
    "What will we do with those data:\n",
    "\n",
    "- Identify the skills most frequently required by companies.\n",
    "- Determine the average salary for each skill.\n",
    "- Locate the areas with the highest job concentration.\n",
    "- What companies have the most job"
   ]
  },
  {
   "cell_type": "code",
   "execution_count": 3,
   "metadata": {},
   "outputs": [],
   "source": [
    "from pyspark.sql import SparkSession\n",
    "from pyspark.sql.functions import col, lit, explode, avg, to_timestamp, udf\n",
    "from pyspark.sql.types import StructType, StructField, StringType, ArrayType\n",
    "from pyspark.sql import functions as F\n",
    "\n",
    "from datetime import datetime\n",
    "\n",
    "hdfs_path = 'hdfs://192.168.48.136:9000/recruitment/silver/'\n",
    "year, month, day = datetime.now().year, datetime.now().month, datetime.now().day\n",
    "\n",
    "if __name__ == '__main__':\n",
    "    sc = SparkSession.builder \\\n",
    "        .appName(\"recruitmentProjectGoldLayer\") \\\n",
    "        .config('spark.hadoop.hive.metastore.uris', \"thrift://192.168.48.136:9083\") \\\n",
    "        .enableHiveSupport() \\\n",
    "        .getOrCreate()\n",
    "\n",
    "    df = sc.sql('SELECT * FROM recruitment.recruitment_all_report')"
   ]
  },
  {
   "cell_type": "code",
   "execution_count": 4,
   "metadata": {},
   "outputs": [
    {
     "name": "stdout",
     "output_type": "stream",
     "text": [
      "+--------------------+-------------------+-------------------+--------------------+--------------------+------------------+--------------------+--------------------+--------------------+----------+----------+------------+--------------------+---------------+--------------------+--------------------+----+-----+---+\n",
      "|               title|       last_updated|       created_time|              skills|         requirement|             hirer|        company_link|    company_location|            category|min_salary|max_salary|salary_range|            location|      work_type|      work_time_type|        company_name|year|month|day|\n",
      "+--------------------+-------------------+-------------------+--------------------+--------------------+------------------+--------------------+--------------------+--------------------+----------+----------+------------+--------------------+---------------+--------------------+--------------------+----+-----+---+\n",
      "|       Data Engineer|2024-08-22 23:04:10|2024-09-09 23:04:10|[Data Model, SQL,...|[3 - 5 năm kinh n...|           Ha Tran|https://glints.co...|81 Cao Thang, D3,...|[Công Nghệ Thông ...|      1300|      2000|         <5M|Quận Ba, Thành ph...|Làm tại công ty|   Việc làm fulltime|       Live Payments|2024|   10| 22|\n",
      "|Thực tập sinh thi...|2024-09-05 22:47:32|2024-09-09 22:47:32|[2D Animation, 3D...|[Dưới một năm kin...|           KATA HR|https://glints.co...|Số 14, Ngõ 102, đ...|[Computer & Infor...|   3000000|   5000000|         <5M|Quận Hoàng Mai, H...|Làm tại công ty|            Thực Tập|CÔNG TY TNHH THƯƠ...|2024|   10| 22|\n",
      "|          QA Manager|2024-08-22 23:04:18|2024-09-09 23:04:18|[Automation Testi...|[Tối thiểu Cử Nhâ...|           Ha Tran|https://glints.co...|81 Cao Thang, D3,...|[Computer & Infor...|      2600|      3000|         <5M|Quận Ba, Thành ph...|Làm tại công ty|   Việc làm fulltime|       Live Payments|2024|   10| 22|\n",
      "|Cộng tác viên QA ...|2024-08-30 22:53:43|2024-09-09 22:53:43|[Tính Tuân Thủ Th...|[Dưới một năm kin...|         HR WEBIFY|https://glints.co...|HCM: 19 Hồ Văn Hu...|[Công Nghệ Thông ...|   2500000|   3500000|         <5M|Quận Phú Nhuận, T...|Làm tại công ty|Việc làm bán thời...|CÔNG TY CỔ PHẦN W...|2024|   10| 22|\n",
      "|Junior Fullstack ...|2024-08-22 23:04:30|2024-09-09 23:04:30|[jQuery, ASP.NET,...|[1 - 3 năm kinh n...|           Ha Tran|https://glints.co...|81 Cao Thang, D3,...|[Công Nghệ Thông ...|      1000|      1200|         <5M|Quận Ba, Thành ph...|Làm tại công ty|   Việc làm fulltime|       Live Payments|2024|   10| 22|\n",
      "|[HN] Quản trị kên...|2024-09-06 22:43:58|2024-09-09 22:43:58|[Website Manageme...|[Dưới một năm kin...|  Tuyển dụng Phòng|https://glints.co...|Tầng 2 tòa Sevin ...|[Công Nghệ Thông ...|         8|         8|         <5M|Quận Hoàng Mai, H...|Làm tại công ty|   Việc làm fulltime|CÔNG TY CỔ PHẦN T...|2024|   10| 22|\n",
      "|  Solution Architect|2024-08-29 22:55:49|2024-09-09 22:55:49|[Kỹ Năng Làm Việc...|[1 - 3 năm kinh n...|            Yến Lê|https://glints.co...|176/1-3 Nguyễn Vă...|[Công Nghệ Thông ...|       300|       300|         <5M|Thuận An, Bình Dương|Làm tại công ty|   Việc làm fulltime|Công ty Cổ phần C...|2024|   10| 22|\n",
      "|Web Developer (Mi...|2024-08-22 23:04:03|2024-09-09 23:04:03|[Nodejs, React.js...|[3 - 5 năm kinh n...|           Ha Tran|https://glints.co...|81 Cao Thang, D3,...|[Công Nghệ Thông ...|      1100|      1500|         <5M|Quận Ba, Thành ph...|Làm tại công ty|   Việc làm fulltime|       Live Payments|2024|   10| 22|\n",
      "|  Database Developer|2024-09-09 10:42:23|2024-09-09 22:42:23|[Etl, SQL, Englis...|[3 - 5 năm kinh n...|           Ha Tran|https://glints.co...|81 Cao Thang, D3,...|[Công Nghệ Thông ...|      1600|      2000|         <5M|Quận Ba, Thành ph...|Làm tại công ty|   Việc làm fulltime|       Live Payments|2024|   10| 22|\n",
      "|THỰC TẬP SINH .NE...|2024-09-06 22:44:22|2024-09-09 22:44:22|[C# Asp.net, Micr...|[Tối thiểu Cao Đẳng]|W2SOLUTION VIETNAM|https://glints.co...|95A1 Trần Quốc To...|[Công Nghệ Thông ...|   1000000|   3000000|         <5M|Quận Ba, Thành ph...|Làm tại công ty|   Việc làm fulltime| W2SOLUTION VIỆT NAM|2024|   10| 22|\n",
      "|Frontend Develope...|2024-09-09 11:41:24|2024-09-09 22:41:24|[TypeScript, Prob...|[Tối thiểu Cử Nhâ...|    HR Recruitment|https://glints.co...|127 Nguyễn Trãi, ...|[Công Nghệ Thông ...|   3000000|   4000000|         <5M|Quận Bảy, Thành p...|Làm tại công ty|            Thực Tập|Công ty Cổ phần C...|2024|   10| 22|\n",
      "|Senior Manual Tester|2024-08-22 23:04:23|2024-09-09 23:04:23|[Agile Methodolog...|[5 - 10 năm kinh ...|           Ha Tran|https://glints.co...|81 Cao Thang, D3,...|[Công Nghệ Thông ...|      1300|      1800|         <5M|Quận Ba, Thành ph...|Làm tại công ty|   Việc làm fulltime|       Live Payments|2024|   10| 22|\n",
      "|Wordpress Web Dev...|2024-08-29 22:54:09|2024-09-09 22:54:09|[WordPress Develo...|[Dưới một năm kin...|           Jose He|https://glints.co...|33A Pagoda Street...|[Công Nghệ Thông ...|         1|   1900000|         <5M|Quận Hà Đông, Hà Nội|      Làm từ xa|            Thực Tập|HUANG HE CONSULTA...|2024|   10| 22|\n",
      "|NHÂN VIÊN GIÁM SÁ...|2024-08-28 22:57:21|2024-09-09 22:57:21|[Nhân Viên Qa, Nh...|[Dưới một năm kin...|          Đức Việt|https://glints.co...|176 Đ. Trường Sa,...|[Computer & Infor...|   9000000|  11000000|      5M-12M|Quận Thủ Đức, Thà...|Làm tại công ty|   Việc làm fulltime|Công ty cổ phần G...|2024|   10| 22|\n",
      "|Junior Front-End ...|2024-09-09 11:41:19|2024-09-09 22:41:19|[React Native, An...|[Dưới một năm kin...|    HR Recruitment|https://glints.co...|127 Nguyễn Trãi, ...|[Công Nghệ Thông ...|   8000000|  12000000|      5M-12M|Quận Bảy, Thành p...|Làm tại công ty|   Việc làm fulltime|Công ty Cổ phần C...|2024|   10| 22|\n",
      "|TUYỂN 3 Nhân viên...|2024-09-09 21:39:29|2024-09-09 22:39:29|[Teamwork, Positi...|[Tối thiểu Trung ...|        Thị Mến Đỗ|https://glints.co...|Lô 20, Lk9 Dự án ...|[Computer & Infor...|   9000000|  15000000|      5M-12M|Quận Bình Thạnh, ...|Làm tại công ty|   Việc làm fulltime|CÔNG TY TNHH MỸ P...|2024|   10| 22|\n",
      "|        Nhân viên QA|2024-08-28 22:57:52|2024-09-09 22:57:52|[Interpersonal Sk...|[Dưới một năm kin...|         HR WEBIFY|https://glints.co...|HCM: 19 Hồ Văn Hu...|[Công Nghệ Thông ...|   7000000|   9000000|      5M-12M|Quận Phú Nhuận, T...|Làm tại công ty|   Việc làm fulltime|CÔNG TY CỔ PHẦN W...|2024|   10| 22|\n",
      "|Algorithm Researcher|2024-09-06 22:43:51|2024-09-09 22:43:51|[Computer Operato...|[1 - 3 năm kinh n...|      Nhã Kỳ Dương|https://glints.co...|21/1 TL43, Bình H...|[Công Nghệ Thông ...|   5000000|  12000000|      5M-12M|Thuận An, Bình Dương|Làm tại công ty|   Việc làm fulltime|    Máy Tính Ngọc Lễ|2024|   10| 22|\n",
      "|PROSPECTOR (DATA ...|2024-08-14 23:23:39|2024-09-09 23:23:39|[Data Collection,...|[Dưới một năm kin...|   Baller Headwear|https://glints.co...|Lô G, đường số 10...|[Công Nghệ Thông ...|   8000000|  12000000|      5M-12M| Liên Chiểu, Đà Nẵng|Làm tại công ty|   Việc làm fulltime|     Baller Headwear|2024|   10| 22|\n",
      "|Tuyển NV bán hàng...|2024-09-06 22:45:06|2024-09-09 22:45:06|[Communication Sk...|[Tối thiểu Trung ...|           Ý Huỳnh|https://glints.co...|527/2 Phan Văn Tr...|[Công Nghệ Thông ...|   8500000|  12000000|      5M-12M|Quận Mười, Thành ...|Làm tại công ty|   Việc làm fulltime|              LITACO|2024|   10| 22|\n",
      "+--------------------+-------------------+-------------------+--------------------+--------------------+------------------+--------------------+--------------------+--------------------+----------+----------+------------+--------------------+---------------+--------------------+--------------------+----+-----+---+\n",
      "only showing top 20 rows\n",
      "\n"
     ]
    }
   ],
   "source": [
    "df.show()"
   ]
  },
  {
   "cell_type": "code",
   "execution_count": null,
   "metadata": {},
   "outputs": [],
   "source": []
  }
 ],
 "metadata": {
  "kernelspec": {
   "display_name": "DataEngineer",
   "language": "python",
   "name": "python3"
  },
  "language_info": {
   "codemirror_mode": {
    "name": "ipython",
    "version": 3
   },
   "file_extension": ".py",
   "mimetype": "text/x-python",
   "name": "python",
   "nbconvert_exporter": "python",
   "pygments_lexer": "ipython3",
   "version": "3.12.4"
  }
 },
 "nbformat": 4,
 "nbformat_minor": 2
}
