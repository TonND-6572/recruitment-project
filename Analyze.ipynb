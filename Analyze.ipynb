{
 "cells": [
  {
   "cell_type": "code",
   "execution_count": 2,
   "metadata": {},
   "outputs": [],
   "source": [
    "from pyspark.sql import SparkSession as sc\n",
    "from pyspark.sql.types import StructType, StructField, StringType, ArrayType\n",
    "\n",
    "sc = sc.builder.getOrCreate()"
   ]
  },
  {
   "cell_type": "code",
   "execution_count": 3,
   "metadata": {},
   "outputs": [
    {
     "data": {
      "text/plain": [
       "StructType([StructField('Title', StringType(), True), StructField('Last_updated', DateType(), True), StructField('Created_time', DateType(), True), StructField('Skills', ArrayType(StringType(), True), True), StructField('Requirement', ArrayType(StringType(), True), True), StructField('Hirer', StringType(), True), StructField('Company_link', StringType(), True), StructField('Company_location', StringType(), True), StructField('Category', ArrayType(StringType(), True), True), StructField('jobDecription', StringType(), True), StructField('min_salary', StringType(), True), StructField('max_salary', StringType(), True), StructField('salary_range', StringType(), True), StructField('location', StringType(), True), StructField('work_type', StringType(), True), StructField('work_time_type', StringType(), True), StructField('company_name', StringType(), True), StructField('source', StringType(), True), StructField('jobCategory', StringType(), True), StructField('year', IntegerType(), True), StructField('month', IntegerType(), True), StructField('day', IntegerType(), True)])"
      ]
     },
     "execution_count": 3,
     "metadata": {},
     "output_type": "execute_result"
    }
   ],
   "source": [
    "from pyspark.sql.functions import explode, split, to_date, date_format, col\n",
    "from pyspark.sql import functions as F\n",
    "\n",
    "# path = r'file:///E:\\IDE_workspace\\VSCode\\recruitment_project\\Data\\computer-information-technology\\silver_layer.csv'\n",
    "hdfs_path = 'hdfs://192.168.48.136:9000/recruitment/silver/'\n",
    "df = sc.read.options(header=True, delimiter=',').csv(hdfs_path)\n",
    "\n",
    "df = df.drop('year', 'month', 'day', 'source', 'jobCategory')\n",
    "\n",
    "df = df.withColumn('Skills', F.from_json('Skills', ArrayType(StringType())))\n",
    "df = df.withColumn('Requirement', F.from_json('Requirement', ArrayType(StringType())))\n",
    "df = df.withColumn('Category', F.from_json('Category', ArrayType(StringType())))\n",
    "\n",
    "df = df.withColumn('Created_time', to_date(col('Created_time'), 'YYYY-MM-dd HH:mm:ss'))\n",
    "df = df.withColumn('Last_updated', to_date(col('Last_updated'), 'YYYY-MM-dd HH:mm:ss'))\n",
    "df.schema"
   ]
  },
  {
   "cell_type": "markdown",
   "metadata": {},
   "source": [
    "# Question:\n",
    "What will we do with those data:\n",
    "\n",
    "- Identify the skills most frequently required by companies.\n",
    "- Determine the average salary for each skill.\n",
    "- Locate the areas with the highest job concentration.\n",
    "- What companies have the most job"
   ]
  },
  {
   "cell_type": "code",
   "execution_count": null,
   "metadata": {},
   "outputs": [],
   "source": [
    "# Explode 'Skills' column and select all columns from original DataFrame + exploded 'Skills'\n",
    "exploded_skill = df.withColumn(\"Exploded_Skill\", explode(df['Skills']))\n",
    "\n",
    "exploded_skill = exploded_skill.drop('Skills')\n",
    "\n",
    "exploded_skill.show()"
   ]
  },
  {
   "cell_type": "code",
   "execution_count": 13,
   "metadata": {},
   "outputs": [
    {
     "name": "stdout",
     "output_type": "stream",
     "text": [
      "+-----------------------------+----------+-----+\n",
      "|Exploded_Skill               |avg_salary|count|\n",
      "+-----------------------------+----------+-----+\n",
      "|System Analysis              |1.76E8    |2    |\n",
      "|Hand-ons Task                |1.05E8    |1    |\n",
      "|Machine Translation          |1.0E8     |1    |\n",
      "|Linguistics                  |1.0E8     |1    |\n",
      "|Sentiment Analysis           |1.0E8     |1    |\n",
      "|Large Language Models (Llm)  |1.0E8     |1    |\n",
      "|Cto                          |1.0E8     |1    |\n",
      "|Cognitive Science            |1.0E8     |1    |\n",
      "|Python (programming Language)|1.0E8     |1    |\n",
      "|Spring Boot                  |9.95E7    |1    |\n",
      "|Blokchain                    |7.65E7    |1    |\n",
      "|Head Of Delivery             |6.5E7     |1    |\n",
      "|Business Management          |6.5E7     |1    |\n",
      "|American                     |6.5E7     |1    |\n",
      "|Information Security         |5.6E7     |2    |\n",
      "|Microsoft System             |5.2E7     |1    |\n",
      "|Solution Architecture        |5.0E7     |2    |\n",
      "|Smart Contract               |5.0E7     |1    |\n",
      "|Defi                         |5.0E7     |1    |\n",
      "|French                       |4.925E7   |2    |\n",
      "+-----------------------------+----------+-----+\n",
      "only showing top 20 rows\n",
      "\n"
     ]
    }
   ],
   "source": [
    "# Identify the skills with the highest count\n",
    "exploded_skill.groupBy('Exploded_Skill') \\\n",
    "    .agg(\n",
    "        F.round(F.avg((F.col('min_salary') + F.col('max_salary')/ 2)), 2).alias('avg_salary'), \n",
    "        F.count('Title').alias('count')) \\\n",
    "    .orderBy('avg_salary', ascending=False).show(truncate=False)"
   ]
  },
  {
   "cell_type": "code",
   "execution_count": 15,
   "metadata": {},
   "outputs": [
    {
     "name": "stdout",
     "output_type": "stream",
     "text": [
      "+--------------------+-------------------+-------------------+--------------------+-----------+--------------------+--------------------+--------------------+----------+----------+------------+--------------------+---------------+-----------------+--------------------+--------------+\n",
      "|               Title|       Last_updated|       Created_time|         Requirement|      Hirer|        Company_link|    Company_location|            Category|min_salary|max_salary|salary_range|            location|      work_type|   work_time_type|        company_name|Exploded_Skill|\n",
      "+--------------------+-------------------+-------------------+--------------------+-----------+--------------------+--------------------+--------------------+----------+----------+------------+--------------------+---------------+-----------------+--------------------+--------------+\n",
      "|Giám Đốc Công Ngh...|2024-08-06 13:38:46|2024-09-01 13:38:46|[5 - 10 năm kinh ...|Phương Đoàn|https://glints.co...|Tòa CIC, 219 Trun...|[Computer & Infor...|  50000000| 100000000|        >27M|Quận Cầu Giấy, Hà...|Làm tại công ty|Việc làm fulltime|Công ty Cổ Phần S...|           Cto|\n",
      "+--------------------+-------------------+-------------------+--------------------+-----------+--------------------+--------------------+--------------------+----------+----------+------------+--------------------+---------------+-----------------+--------------------+--------------+\n",
      "\n"
     ]
    }
   ],
   "source": [
    "exploded_skill.filter(exploded_skill.Exploded_Skill == 'Cto').show()"
   ]
  },
  {
   "cell_type": "code",
   "execution_count": 17,
   "metadata": {},
   "outputs": [
    {
     "name": "stdout",
     "output_type": "stream",
     "text": [
      "+--------------------+-------------------+-------------------+--------------------+--------------------+------------------+--------------------+--------------------+--------------------+----------+----------+------------+--------------------+---------------+--------------------+--------------------+\n",
      "|               Title|       Last_updated|       Created_time|              Skills|         Requirement|             Hirer|        Company_link|    Company_location|            Category|min_salary|max_salary|salary_range|            location|      work_type|      work_time_type|        company_name|\n",
      "+--------------------+-------------------+-------------------+--------------------+--------------------+------------------+--------------------+--------------------+--------------------+----------+----------+------------+--------------------+---------------+--------------------+--------------------+\n",
      "|THỰC TẬP SINH .NE...|2024-08-02 13:47:40|2024-09-01 13:47:40|[E-commerce, Info...|   Tối thiểu Cử Nhân|W2SOLUTION VIETNAM|https://glints.co...|95A1 Trần Quốc To...|[Công Nghệ Thông ...|   1000000|   3000000|         <5M|Quận Ba, Thành ph...|Làm tại công ty|   Việc làm fulltime| W2SOLUTION VIỆT NAM|\n",
      "|NHÂN VIÊN GIÁM SÁ...|2024-08-09 13:30:22|2024-09-01 13:30:22|[Microsoft Excel,...|  Tối thiểu Cao Đẳng| Ktri Công ty tnhh|https://glints.co...|Phòng G05, Tầng t...|[Công Nghệ Thông ...|    500000|   2500000|         <5M|Quận Thủ Đức, Thà...|      Làm từ xa|Việc làm bán thời...|   Công ty tnhh ktri|\n",
      "|[HCM] Anh Ngữ Edu...|2024-08-21 13:12:24|2024-09-01 13:12:24|[Strong Communica...|Dưới một năm kinh...|          Đăng Bùi|https://glints.co...|371 Đ. Nguyễn Kiệ...|[Công Nghệ Thông ...|     45000|    155000|         <5M|Quận Một, Thành p...|      Làm từ xa|           Theo Ngày|Công ty CP Đầu tư...|\n",
      "|[HCM] Anh Ngữ Edu...|2024-08-21 13:12:24|2024-09-01 13:12:24|[Strong Communica...|  Tối thiểu Cao Đẳng|          Đăng Bùi|https://glints.co...|371 Đ. Nguyễn Kiệ...|[Công Nghệ Thông ...|     45000|    155000|         <5M|Quận Một, Thành p...|      Làm từ xa|           Theo Ngày|Công ty CP Đầu tư...|\n",
      "|Software Testing ...|2024-08-07 13:34:16|2024-09-01 13:34:16|[Agile Methodolog...|Dưới một năm kinh...| Hamsa Corporation|https://glints.co...|CIC Tower, 2 Nguy...|[Công Nghệ Thông ...|   1000000|   4000000|         <5M|Quận Cầu Giấy, Hà...|Làm tại công ty|   Việc làm fulltime|   Hamsa Corporation|\n",
      "|Software Testing ...|2024-08-07 13:34:16|2024-09-01 13:34:16|[Agile Methodolog...|   Tối thiểu Cử Nhân| Hamsa Corporation|https://glints.co...|CIC Tower, 2 Nguy...|[Công Nghệ Thông ...|   1000000|   4000000|         <5M|Quận Cầu Giấy, Hà...|Làm tại công ty|   Việc làm fulltime|   Hamsa Corporation|\n",
      "|Software Testing ...|2024-08-07 13:34:16|2024-09-01 13:34:16|[Agile Methodolog...|          20-24 tuổi| Hamsa Corporation|https://glints.co...|CIC Tower, 2 Nguy...|[Công Nghệ Thông ...|   1000000|   4000000|         <5M|Quận Cầu Giấy, Hà...|Làm tại công ty|   Việc làm fulltime|   Hamsa Corporation|\n",
      "|QA Manager - Nghệ...|2024-08-02 13:46:49|2024-09-01 13:46:49|[Trưởng Phòng Chấ...|3 - 5 năm kinh ng...|Tuyển dụng Bộ phận|https://glints.co...|Số 19-21, Lô D5A ...|[Công Nghệ Thông ...|         1|         1|         <5M|     Tân Kỳ, Nghệ An|Làm tại công ty|   Việc làm fulltime|Công ty Cổ phần T...|\n",
      "|QA Manager - Nghệ...|2024-08-02 13:46:49|2024-09-01 13:46:49|[Trưởng Phòng Chấ...|   Tối thiểu Cử Nhân|Tuyển dụng Bộ phận|https://glints.co...|Số 19-21, Lô D5A ...|[Công Nghệ Thông ...|         1|         1|         <5M|     Tân Kỳ, Nghệ An|Làm tại công ty|   Việc làm fulltime|Công ty Cổ phần T...|\n",
      "|           IT INTERN|2024-08-22 13:06:46|2024-09-01 13:06:46|[Information Syst...|Dưới một năm kinh...|            HR UBL|https://glints.co...|49 Thảo Điền, Phư...|[Computer & Infor...|   2000000|   2500000|         <5M|Quận Hai, Thành p...|Làm tại công ty|            Thực Tập|Công Ty Tnhh Liên...|\n",
      "|           IT INTERN|2024-08-22 13:06:46|2024-09-01 13:06:46|[Information Syst...|   Tối thiểu Cử Nhân|            HR UBL|https://glints.co...|49 Thảo Điền, Phư...|[Computer & Infor...|   2000000|   2500000|         <5M|Quận Hai, Thành p...|Làm tại công ty|            Thực Tập|Công Ty Tnhh Liên...|\n",
      "|Web Developer (Mi...|2024-08-22 13:07:19|2024-09-01 13:07:19|[Nodejs, React.js...|3 - 5 năm kinh ng...|           Ha Tran|https://glints.co...|81 Cao Thang, D3,...|[Công Nghệ Thông ...|      1100|      1500|         <5M|Quận Ba, Thành ph...|Làm tại công ty|   Việc làm fulltime|       Live Payments|\n",
      "|Web Developer (Mi...|2024-08-22 13:07:19|2024-09-01 13:07:19|[Nodejs, React.js...|   Tối thiểu Cử Nhân|           Ha Tran|https://glints.co...|81 Cao Thang, D3,...|[Công Nghệ Thông ...|      1100|      1500|         <5M|Quận Ba, Thành ph...|Làm tại công ty|   Việc làm fulltime|       Live Payments|\n",
      "|Web Developer (Mi...|2024-08-22 13:07:19|2024-09-01 13:07:19|[Nodejs, React.js...|          26-30 tuổi|           Ha Tran|https://glints.co...|81 Cao Thang, D3,...|[Công Nghệ Thông ...|      1100|      1500|         <5M|Quận Ba, Thành ph...|Làm tại công ty|   Việc làm fulltime|       Live Payments|\n",
      "|       Data Engineer|2024-08-22 13:07:26|2024-09-01 13:07:26|[Data Model, SQL,...|3 - 5 năm kinh ng...|           Ha Tran|https://glints.co...|81 Cao Thang, D3,...|[Công Nghệ Thông ...|      1300|      2000|         <5M|Quận Ba, Thành ph...|Làm tại công ty|   Việc làm fulltime|       Live Payments|\n",
      "|       Data Engineer|2024-08-22 13:07:26|2024-09-01 13:07:26|[Data Model, SQL,...|   Tối thiểu Cử Nhân|           Ha Tran|https://glints.co...|81 Cao Thang, D3,...|[Công Nghệ Thông ...|      1300|      2000|         <5M|Quận Ba, Thành ph...|Làm tại công ty|   Việc làm fulltime|       Live Payments|\n",
      "|Senior Manual Tester|2024-08-22 13:07:40|2024-09-01 13:07:40|[Agile Methodolog...|5 - 10 năm kinh n...|           Ha Tran|https://glints.co...|81 Cao Thang, D3,...|[Công Nghệ Thông ...|      1300|      1800|         <5M|Quận Ba, Thành ph...|Làm tại công ty|   Việc làm fulltime|       Live Payments|\n",
      "|Senior Manual Tester|2024-08-22 13:07:40|2024-09-01 13:07:40|[Agile Methodolog...|   Tối thiểu Cử Nhân|           Ha Tran|https://glints.co...|81 Cao Thang, D3,...|[Công Nghệ Thông ...|      1300|      1800|         <5M|Quận Ba, Thành ph...|Làm tại công ty|   Việc làm fulltime|       Live Payments|\n",
      "|Senior Manual Tester|2024-08-22 13:07:40|2024-09-01 13:07:40|[Agile Methodolog...|          28-35 tuổi|           Ha Tran|https://glints.co...|81 Cao Thang, D3,...|[Công Nghệ Thông ...|      1300|      1800|         <5M|Quận Ba, Thành ph...|Làm tại công ty|   Việc làm fulltime|       Live Payments|\n",
      "|Junior Fullstack ...|2024-08-22 13:07:48|2024-09-01 13:07:48|[jQuery, ASP.NET,...|1 - 3 năm kinh ng...|           Ha Tran|https://glints.co...|81 Cao Thang, D3,...|[Công Nghệ Thông ...|      1000|      1200|         <5M|Quận Ba, Thành ph...|Làm tại công ty|   Việc làm fulltime|       Live Payments|\n",
      "+--------------------+-------------------+-------------------+--------------------+--------------------+------------------+--------------------+--------------------+--------------------+----------+----------+------------+--------------------+---------------+--------------------+--------------------+\n",
      "only showing top 20 rows\n",
      "\n"
     ]
    }
   ],
   "source": [
    "# Explode 'Skills' column and select all columns from original DataFrame + exploded 'Skills'\n",
    "exploded_requirement = df.withColumn(\"Requirement\", explode(df['Requirement']))\n",
    "\n",
    "exploded_requirement.show()"
   ]
  },
  {
   "cell_type": "code",
   "execution_count": 25,
   "metadata": {},
   "outputs": [
    {
     "name": "stdout",
     "output_type": "stream",
     "text": [
      "+-----------------------------+-------------+-----+\n",
      "|Requirement                  |avg_salary   |count|\n",
      "+-----------------------------+-------------+-----+\n",
      "|30-55 tuổi                   |9.95E7       |1    |\n",
      "|25-34 tuổi                   |6.025E7      |2    |\n",
      "|28-49 tuổi                   |5.75E7       |1    |\n",
      "|25-40 tuổi                   |2.816666667E7|3    |\n",
      "|5 - 10 năm kinh nghiệm       |2.790748889E7|27   |\n",
      "|20-34 tuổi                   |2.75E7       |1    |\n",
      "|Tối thiểu Tiểu Học           |2.75E7       |1    |\n",
      "|25-45 tuổi                   |2.35E7       |1    |\n",
      "|3 - 5 năm kinh nghiệm        |2.322920991E7|96   |\n",
      "|Tối thiểu Cao Đẳng           |2.23170078E7 |66   |\n",
      "|1 - 3 năm kinh nghiệm        |2.058617987E7|159  |\n",
      "|Tối thiểu Cử Nhân            |2.005261566E7|234  |\n",
      "|24-35 tuổi                   |2.0E7        |1    |\n",
      "|Giới tính Nam                |1.832692308E7|26   |\n",
      "|23-30 tuổi                   |1.75E7       |1    |\n",
      "|Tối thiểu Bằng Liên Kết      |1.675005556E7|18   |\n",
      "|23-35 tuổi                   |1.65E7       |1    |\n",
      "|25-35 tuổi                   |1.533333333E7|6    |\n",
      "|Tối thiểu Trung Học Phổ Thông|1.523684211E7|19   |\n",
      "|30-45 tuổi                   |1.45E7       |2    |\n",
      "+-----------------------------+-------------+-----+\n",
      "only showing top 20 rows\n",
      "\n"
     ]
    }
   ],
   "source": [
    "exploded_requirement.groupBy('Requirement') \\\n",
    "    .agg(\n",
    "        F.round(F.avg((F.col('min_salary') + F.col('max_salary')/ 2)), 2).alias('avg_salary'),\n",
    "        F.count('Title').alias('count')) \\\n",
    "    .orderBy('avg_salary', ascending=False).show(truncate=False)"
   ]
  },
  {
   "cell_type": "code",
   "execution_count": 39,
   "metadata": {},
   "outputs": [
    {
     "name": "stdout",
     "output_type": "stream",
     "text": [
      "+--------------------+-------------------+-------------------+--------------------+--------------------+--------+--------------------+--------------------+--------------------+----------+----------+------------+--------------------+---------------+-----------------+--------------------+\n",
      "|               Title|       Last_updated|       Created_time|              Skills|         Requirement|   Hirer|        Company_link|    Company_location|            Category|min_salary|max_salary|salary_range|            location|      work_type|   work_time_type|        company_name|\n",
      "+--------------------+-------------------+-------------------+--------------------+--------------------+--------+--------------------+--------------------+--------------------+----------+----------+------------+--------------------+---------------+-----------------+--------------------+\n",
      "|Full Stack Developer|2024-08-22 13:08:38|2024-09-01 13:08:38|[SQL, Spring Boot...|[5 - 10 năm kinh ...|HR JuYou|https://glints.co...|Lầu 1, Toà nhà Ha...|[Công Nghệ Thông ...|  62000000|  75000000|        >27M|Quận Bình Thạnh, ...|Làm tại công ty|Việc làm fulltime|Công ty TNHH TMDV...|\n",
      "+--------------------+-------------------+-------------------+--------------------+--------------------+--------+--------------------+--------------------+--------------------+----------+----------+------------+--------------------+---------------+-----------------+--------------------+\n",
      "\n"
     ]
    }
   ],
   "source": [
    "from pyspark.sql.functions import array_contains, col\n",
    "\n",
    "df.where(array_contains(col('Requirement'), '30-55 tuổi')).show()"
   ]
  },
  {
   "cell_type": "code",
   "execution_count": 28,
   "metadata": {},
   "outputs": [
    {
     "name": "stdout",
     "output_type": "stream",
     "text": [
      "+--------------------+-------------------+-------------------+--------------------+--------------------+--------------------+--------------------+--------------------+--------------------+----------+----------+------------+--------------------+---------------+-----------------+--------------------+\n",
      "|               Title|       Last_updated|       Created_time|              Skills|         Requirement|               Hirer|        Company_link|    Company_location|            Category|min_salary|max_salary|salary_range|            location|      work_type|   work_time_type|        company_name|\n",
      "+--------------------+-------------------+-------------------+--------------------+--------------------+--------------------+--------------------+--------------------+--------------------+----------+----------+------------+--------------------+---------------+-----------------+--------------------+\n",
      "|Full Stack Developer|2024-08-20 13:15:16|2024-09-01 13:15:16|[Algorithms, Inte...|[Dưới một năm kin...|     Myaloha Myaloha|https://glints.co...|Khu Công nghệ Phầ...|[Công Nghệ Thông ...|   8000000|  12000000|      5M-12M|Quận Thủ Đức, Thà...|Làm tại công ty|Việc làm fulltime|Công ty Cổ phần T...|\n",
      "|Full Stack Developer|2024-08-02 13:46:31|2024-09-01 13:46:31|[SQL, Blockchain,...|[1 - 3 năm kinh n...|     Ancient8 Career|https://glints.co...|Phường 2 Quận Tân...|[Công Nghệ Thông ...|  25000000|  35000000|        >27M|Quận Tân Bình, Th...|Làm tại công ty|Việc làm fulltime|            Ancient8|\n",
      "|Full Stack Developer|2024-08-22 13:08:38|2024-09-01 13:08:38|[SQL, Spring Boot...|[5 - 10 năm kinh ...|            HR JuYou|https://glints.co...|Lầu 1, Toà nhà Ha...|[Công Nghệ Thông ...|  62000000|  75000000|        >27M|Quận Bình Thạnh, ...|Làm tại công ty|Việc làm fulltime|Công ty TNHH TMDV...|\n",
      "|Full Stack Developer|2024-08-06 13:38:20|2024-09-01 13:38:20|[Fullstack, Softw...|[3 - 5 năm kinh n...|Nexus FrontierTec...|https://glints.co...|T2, Times Tower, ...|[Công Nghệ Thông ...|  15000000|  40000000|        >27M|Quận Đống Đa, Hà Nội|         Hybrid|Việc làm fulltime|  Nexus Frontiertech|\n",
      "|Full Stack Developer|2024-08-14 13:24:07|2024-09-01 13:24:07|[Code Review, Obj...|[1 - 3 năm kinh n...|              Yến Lê|https://glints.co...|176/1-3 Nguyễn Vă...|[Công Nghệ Thông ...|         0|         0|     Unknown|Thuận An, Bình Dương|Làm tại công ty|Việc làm fulltime|Công ty Cổ phần C...|\n",
      "+--------------------+-------------------+-------------------+--------------------+--------------------+--------------------+--------------------+--------------------+--------------------+----------+----------+------------+--------------------+---------------+-----------------+--------------------+\n",
      "\n"
     ]
    }
   ],
   "source": [
    "df.filter(df.Title == 'Full Stack Developer').show()"
   ]
  },
  {
   "cell_type": "code",
   "execution_count": 40,
   "metadata": {},
   "outputs": [
    {
     "data": {
      "text/plain": [
       "StructType([StructField('Title', StringType(), True), StructField('Last_updated', StringType(), True), StructField('Created_time', StringType(), True), StructField('Skills', ArrayType(StringType(), True), True), StructField('Requirement', ArrayType(StringType(), True), True), StructField('Hirer', StringType(), True), StructField('Company_link', StringType(), True), StructField('Company_location', StringType(), True), StructField('Category', ArrayType(StringType(), True), True), StructField('min_salary', StringType(), True), StructField('max_salary', StringType(), True), StructField('salary_range', StringType(), True), StructField('location', StringType(), True), StructField('work_type', StringType(), True), StructField('work_time_type', StringType(), True), StructField('company_name', StringType(), True)])"
      ]
     },
     "execution_count": 40,
     "metadata": {},
     "output_type": "execute_result"
    }
   ],
   "source": [
    "df.schema"
   ]
  },
  {
   "cell_type": "code",
   "execution_count": null,
   "metadata": {},
   "outputs": [],
   "source": [
    "df."
   ]
  }
 ],
 "metadata": {
  "kernelspec": {
   "display_name": "DataEngineer",
   "language": "python",
   "name": "python3"
  },
  "language_info": {
   "codemirror_mode": {
    "name": "ipython",
    "version": 3
   },
   "file_extension": ".py",
   "mimetype": "text/x-python",
   "name": "python",
   "nbconvert_exporter": "python",
   "pygments_lexer": "ipython3",
   "version": "3.12.4"
  }
 },
 "nbformat": 4,
 "nbformat_minor": 2
}
