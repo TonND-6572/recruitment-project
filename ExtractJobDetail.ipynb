{
 "cells": [
  {
   "cell_type": "code",
   "execution_count": 1,
   "metadata": {},
   "outputs": [],
   "source": [
    "from selenium import webdriver\n",
    "from bs4 import BeautifulSoup\n",
    "from selenium.webdriver.common.by import By\n",
    "from selenium.webdriver.support.ui import WebDriverWait\n",
    "from selenium.webdriver.support import expected_conditions as EC\n",
    "from selenium.common.exceptions import StaleElementReferenceException\n",
    "from tqdm import tqdm\n",
    "\n",
    "import time\n",
    "import requests\n",
    "import json"
   ]
  },
  {
   "cell_type": "code",
   "execution_count": 2,
   "metadata": {},
   "outputs": [
    {
     "data": {
      "text/plain": [
       "90"
      ]
     },
     "execution_count": 2,
     "metadata": {},
     "output_type": "execute_result"
    }
   ],
   "source": [
    "jobLinks = json.load(open('Data/jobLinks.json'))\n",
    "len(jobLinks)"
   ]
  },
  {
   "cell_type": "code",
   "execution_count": 1,
   "metadata": {},
   "outputs": [
    {
     "ename": "NameError",
     "evalue": "name 'webdriver' is not defined",
     "output_type": "error",
     "traceback": [
      "\u001b[1;31m---------------------------------------------------------------------------\u001b[0m",
      "\u001b[1;31mNameError\u001b[0m                                 Traceback (most recent call last)",
      "Cell \u001b[1;32mIn[1], line 1\u001b[0m\n\u001b[1;32m----> 1\u001b[0m webdriver \u001b[38;5;241m=\u001b[39m \u001b[43mwebdriver\u001b[49m\u001b[38;5;241m.\u001b[39mChrome()\n",
      "\u001b[1;31mNameError\u001b[0m: name 'webdriver' is not defined"
     ]
    }
   ],
   "source": [
    "webdriver = webdriver.Chrome()"
   ]
  },
  {
   "cell_type": "code",
   "execution_count": 28,
   "metadata": {},
   "outputs": [],
   "source": [
    "# Job Title, Job Salary, Job Experience, Education, Location and Arrangement, Skills, Company & hirer name, Company links, Category, Company location\n",
    "def getJobDetail(link):\n",
    "    webdriver.get(link)\n",
    "    wait = WebDriverWait(webdriver, 10)\n",
    "    job = dict()\n",
    "\n",
    "    jobHeader = wait.until(EC.presence_of_all_elements_located(\n",
    "        (By.XPATH, '//div[@class=\"TopFoldsc__JobOverviewContainer-sc-f7gyiq-2 fTcdeM\"]//p')))\n",
    "    skills = wait.until(EC.presence_of_all_elements_located(\n",
    "        (By.XPATH, '//div[@class=\"Skillssc__TagContainer-sc-gaj5e9-1 kwxkCn\"]//span/div/p')))\n",
    "    requirements = wait.until(EC.presence_of_all_elements_located(\n",
    "        (By.XPATH, '//div[@class=\"JobRequirementssc__TagsWrapper-sc-10j2bdt-1 ewBmwf\"]//span/div/p')))\n",
    "    hirer = wait.until(EC.presence_of_all_elements_located(\n",
    "        (By.XPATH, '//div[@class=\"HiringManagerSectionsc__CreatorInfoDetail-sc-ql38za-10 kJFJVW\"]/div[1]/p')))\n",
    "    company = wait.until(EC.presence_of_all_elements_located(\n",
    "        (By.XPATH, '//div[@class=\"HiringManagerSectionsc__CreatorInfoDetail-sc-ql38za-10 kJFJVW\"]/div[2]/p/div')))\n",
    "    companyLink = wait.until(EC.presence_of_all_elements_located(\n",
    "        (By.XPATH, '//div[@class=\"AboutCompanySectionsc__Main-sc-1cpbaxt-0 klxtwC\"]/a')))\n",
    "    category = wait.until(EC.presence_of_all_elements_located(\n",
    "        (By.XPATH, '//div[@class=\"JobCategoriessc__TagsWrapper-sc-1btru5u-1 bpLuhz\"]//button//a')))\n",
    "    location = wait.until(EC.presence_of_all_elements_located(\n",
    "        (By.XPATH, '//div[@class=\"AboutCompanySectionsc__Main-sc-1cpbaxt-0 klxtwC\"]/div[3]/p[2]')))\n",
    "    # Job Link\n",
    "    job[\"Link\"] = link\n",
    "    # Job Title\n",
    "    job[\"Title\"] = webdriver.find_elements(By.XPATH, '//div[@class=\"TopFoldsc__JobOverviewContainer-sc-f7gyiq-2 fTcdeM\"]//p[1]')[0].text\n",
    "    # Job Salary\n",
    "    job[\"Salary\"] = [i.text for i in jobHeader[1].find_elements(By.TAG_NAME, 'span')]\n",
    "    # # Job Experience \n",
    "    # job[\"Experience\"] = jobHeader[2].text\n",
    "    # # Education\n",
    "    # job[\"Education\"] = jobHeader[3].text\n",
    "    # Location and Arrangement\n",
    "    job[\"Location\"] = webdriver.find_elements(By.XPATH, '//div[@aria-label=\"Job Location and Arrangement\"]/p[1]/div[2]')[0].text\n",
    "    # Time\n",
    "    job[\"Last_updated\"] = jobHeader[-1].text \n",
    "    # CrawlTime\n",
    "    job[\"Created_time\"] = time.strftime(\"%d-%m-%Y %H:%M:%S\", time.localtime())\n",
    "    # Skills\n",
    "    job[\"Skills\"] = [skill.text for skill in skills if skill.text != \"\"]\n",
    "    # Job Requirement\n",
    "    job[\"Requirement\"] = [requirement.text for requirement in requirements if requirement.text != \"\"]\n",
    "    # Company & hirer name\n",
    "    job[\"Hirer\"] = hirer[0].text\n",
    "    job[\"Company\"] = company[0].text\n",
    "    # Company links\n",
    "    job[\"Company_link\"] = companyLink[0].get_attribute(\"href\")\n",
    "    # Company location\n",
    "    job[\"Company_location\"] = webdriver.find_elements(By.XPATH, '//div[@class=\"AboutCompanySectionsc__Main-sc-1cpbaxt-0 klxtwC\"]/div[3]/p[2]')[0].text\n",
    "    # Category\n",
    "    job[\"Category\"] = [category.text for category in category if category.text != \"\"]\n",
    "    \n",
    "    return job"
   ]
  },
  {
   "cell_type": "code",
   "execution_count": 25,
   "metadata": {},
   "outputs": [
    {
     "data": {
      "text/plain": [
       "'Tầng 15 - 45A Lý Tự Trọng phường Bến Nghé quận 1 Thành phố Hồ Chí Minh, 18E Cộng Hòa phường 4 quận Tân Bình'"
      ]
     },
     "execution_count": 25,
     "metadata": {},
     "output_type": "execute_result"
    }
   ],
   "source": [
    "webdriver.find_elements(By.XPATH, '//div[@class=\"AboutCompanySectionsc__Main-sc-1cpbaxt-0 klxtwC\"]/div[3]/p[2]')[0].text"
   ]
  },
  {
   "cell_type": "code",
   "execution_count": 27,
   "metadata": {},
   "outputs": [
    {
     "data": {
      "text/plain": [
       "{'Link': 'https://glints.com/vn/opportunities/jobs/aia-exchange-quan-1-truong-phong-kinh-doanh/8a38d33b-6f8e-435c-961b-cbb5a60a6c93?utm_referrer=explore&traceInfo=c367a96c60373bff80c4f095afb02436',\n",
       " 'Title': '[AIA EXCHANGE - QUẬN 1] Trưởng phòng kinh doanh',\n",
       " 'Salary': ['₫ 18-40 Tr/Tháng'],\n",
       " 'Location': 'Quận Một, Thành phố Hồ Chí Minh  ·  Làm tại công ty  ·  Việc làm fulltime',\n",
       " 'Last_updated': 'Cập nhật Hôm qua',\n",
       " 'Created_time': '29-08-2024 22:39:34',\n",
       " 'Skills': ['Teamwork', 'Strong Communication Skills', 'Microsoft Office'],\n",
       " 'Requirement': ['1 - 3 năm kinh nghiệm', 'Tối thiểu Cử Nhân'],\n",
       " 'Hirer': 'Ngọc Nguyễn',\n",
       " 'Company': 'Nhà tuyển dụng · Công ty TNHH Bảo hiểm Nhân thọ AIA (Việt Nam)',\n",
       " 'Company_link': 'https://glints.com/vn/companies/cong-ty-tnhh-bao-hiem-nhan-tho-aia-viet-nam/ec5438f0-025a-4fca-8b43-c8aa0da054d5',\n",
       " 'Company_location': 'Tầng 15 - 45A Lý Tự Trọng phường Bến Nghé quận 1 Thành phố Hồ Chí Minh, 18E Cộng Hòa phường 4 quận Tân Bình',\n",
       " 'Category': ['Management', 'Quản Lý Kinh Doanh']}"
      ]
     },
     "metadata": {},
     "output_type": "display_data"
    }
   ],
   "source": [
    "display(getJobDetail(jobLinks[9]))"
   ]
  },
  {
   "cell_type": "code",
   "execution_count": 29,
   "metadata": {},
   "outputs": [
    {
     "name": "stderr",
     "output_type": "stream",
     "text": [
      "100%|██████████| 90/90 [12:29<00:00,  8.32s/it]\n"
     ]
    }
   ],
   "source": [
    "import random\n",
    "counter = 0\n",
    "path = \"Data/JobDetail\"\n",
    "fail = [] # save links that fail\n",
    "for link in tqdm(jobLinks):\n",
    "    try:\n",
    "        job = getJobDetail(link)\n",
    "        json.dump(job, open(path + \"/job_\" + str(counter) + \".json\", \"w\", encoding=\"utf-8\"), indent=4, ensure_ascii=False)\n",
    "        counter += 1\n",
    "    except:\n",
    "        fail.append(link)\n",
    "    finally:\n",
    "        time.sleep(random.randint(3, 5))\n",
    "        continue"
   ]
  },
  {
   "cell_type": "code",
   "execution_count": null,
   "metadata": {},
   "outputs": [],
   "source": [
    "webdriver.close()"
   ]
  },
  {
   "cell_type": "code",
   "execution_count": null,
   "metadata": {},
   "outputs": [],
   "source": []
  }
 ],
 "metadata": {
  "kernelspec": {
   "display_name": "DataEngineer",
   "language": "python",
   "name": "python3"
  },
  "language_info": {
   "codemirror_mode": {
    "name": "ipython",
    "version": 3
   },
   "file_extension": ".py",
   "mimetype": "text/x-python",
   "name": "python",
   "nbconvert_exporter": "python",
   "pygments_lexer": "ipython3",
   "version": "3.12.4"
  }
 },
 "nbformat": 4,
 "nbformat_minor": 2
}
